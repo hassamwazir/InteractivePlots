{
 "cells": [
  {
   "cell_type": "code",
   "execution_count": null,
   "metadata": {},
   "outputs": [],
   "source": [
    "import matplotlib.pyplot as plt\n",
    "import mplcursors\n",
    "import numpy as np\n",
    "from matplotlib.patches import Rectangle"
   ]
  },
  {
   "cell_type": "code",
   "execution_count": null,
   "metadata": {},
   "outputs": [],
   "source": [
    "%matplotlib widget"
   ]
  },
  {
   "cell_type": "code",
   "execution_count": null,
   "metadata": {},
   "outputs": [],
   "source": [
    "class InteractiveScatterPlot:\n",
    "    def __init__(self, data):\n",
    "        self.data = data  # Store the data passed to the class\n",
    "        self.fig, self.ax = plt.subplots()  # Create a figure and axes for the plot\n",
    "        self.scatter = self.ax.scatter(data[:, 0], data[:, 1])  # Create a scatter plot with the data\n",
    "        self.selected_indices = set()  # Maintain a set of selected point indices\n",
    "\n",
    "        self.fig.canvas.mpl_connect('button_press_event', self.on_button_press)\n",
    "        # Connect the 'button_press_event' event to the 'on_button_press' method\n",
    "\n",
    "    def on_button_press(self, event):\n",
    "        if event.button == 1:  # If the left mouse button is pressed\n",
    "            contains, ind = self.scatter.contains(event)\n",
    "            # Check if the event occurred inside a scatter point and get the indices of the points\n",
    "            if contains:\n",
    "                ind = ind['ind'][0]  # Get the index of the selected point\n",
    "                if ind in self.selected_indices:\n",
    "                    self.selected_indices.remove(ind)  # Deselect the point if it was already selected\n",
    "                else:\n",
    "                    self.selected_indices.add(ind)  # Select the point if it was not already selected\n",
    "                self.update_plot()  # Update the scatter plot to reflect the selection changes\n",
    "\n",
    "        elif event.button == 3:  # If the right mouse button is pressed\n",
    "            if len(self.selected_indices) > 0:\n",
    "                self.data = np.delete(self.data, list(self.selected_indices), axis=0)\n",
    "                self.selected_indices.clear()\n",
    "                self.update_plot()\n",
    "\n",
    "    def update_plot(self):\n",
    "        self.scatter.set_offsets(self.data)  # Update the positions of the scatter points\n",
    "        self.scatter.set_alpha(0.5)  # Set the transparency of the scatter points\n",
    "        self.scatter.set_sizes([20] * len(self.data))  # Set the size of the scatter points\n",
    "        self.scatter.set_array(np.array([ind in self.selected_indices for ind in range(len(self.data))]))\n",
    "        # Color the scatter points based on whether they are selected or not\n",
    "        self.fig.canvas.draw()  # Redraw the plot to reflect the changes\n",
    "\n",
    "    def save_data(self, filename):\n",
    "        np.save(filename, self.data)  # Save the data to a .npy file\n",
    "\n"
   ]
  },
  {
   "cell_type": "code",
   "execution_count": null,
   "metadata": {},
   "outputs": [],
   "source": [
    "class InteractiveScatterPlot:\n",
    "    def __init__(self, data):\n",
    "        self.data = data\n",
    "        self.fig, self.ax = plt.subplots()\n",
    "        self.scatter = self.ax.scatter(data[:, 0], data[:, 1])\n",
    "        self.selected_indices = set()\n",
    "        self.dragging = False\n",
    "        self.start_point = None\n",
    "        self.end_point = None\n",
    "\n",
    "        self.fig.canvas.mpl_connect('button_press_event', self.on_button_press)\n",
    "        self.fig.canvas.mpl_connect('motion_notify_event', self.on_motion_notify)\n",
    "        self.fig.canvas.mpl_connect('button_release_event', self.on_button_release)\n",
    "\n",
    "    def on_button_press(self, event):\n",
    "        if event.button == 1:  # Left mouse button\n",
    "            contains, _ = self.scatter.contains(event)\n",
    "            if contains:\n",
    "                ind = self.get_index(event)\n",
    "                if ind is not None:\n",
    "                    if ind in self.selected_indices:\n",
    "                        self.selected_indices.remove(ind)\n",
    "                    else:\n",
    "                        self.selected_indices.add(ind)\n",
    "                    self.update_plot()\n",
    "            self.dragging = True\n",
    "            self.start_point = (event.xdata, event.ydata)\n",
    "\n",
    "        elif event.button == 3:  # Right mouse button\n",
    "            if len(self.selected_indices) > 0:\n",
    "                self.data = np.delete(self.data, list(self.selected_indices), axis=0)\n",
    "                self.selected_indices.clear()\n",
    "                self.update_plot()\n",
    "\n",
    "    def on_motion_notify(self, event):\n",
    "        if self.dragging:\n",
    "            self.end_point = (event.xdata, event.ydata)\n",
    "            self.select_points_in_region()\n",
    "            self.update_plot()\n",
    "\n",
    "    def on_button_release(self, event):\n",
    "        if event.button == 1:  # Left mouse button\n",
    "            self.dragging = False\n",
    "            self.start_point = None\n",
    "            self.end_point = None\n",
    "\n",
    "    def get_index(self, event):\n",
    "        try:\n",
    "            return event.ind[0]\n",
    "        except AttributeError:\n",
    "            contains, ind = self.scatter.contains(event)\n",
    "            if contains:\n",
    "                return ind['ind'][0]\n",
    "        return None\n",
    "\n",
    "    def select_points_in_region(self):\n",
    "        if self.start_point and self.end_point:\n",
    "            x_min, x_max = sorted([self.start_point[0], self.end_point[0]])\n",
    "            y_min, y_max = sorted([self.start_point[1], self.end_point[1]])\n",
    "\n",
    "            selected_indices = []\n",
    "            for ind, (x, y) in enumerate(self.data):\n",
    "                if x_min <= x <= x_max and y_min <= y <= y_max:\n",
    "                    selected_indices.append(ind)\n",
    "\n",
    "            self.selected_indices = set(selected_indices)\n",
    "\n",
    "    def update_plot(self):\n",
    "        self.scatter.set_offsets(self.data)\n",
    "        self.scatter.set_alpha(0.5)\n",
    "        self.scatter.set_sizes([2] * len(self.data))\n",
    "        self.scatter.set_array(np.array([ind in self.selected_indices for ind in range(len(self.data))]))\n",
    "        self.fig.canvas.draw()"
   ]
  },
  {
   "cell_type": "code",
   "execution_count": null,
   "metadata": {},
   "outputs": [
    {
     "ename": "",
     "evalue": "",
     "output_type": "error",
     "traceback": [
      "\u001b[1;31mThe Kernel crashed while executing code in the the current cell or a previous cell. Please review the code in the cell(s) to identify a possible cause of the failure. Click <a href='https://aka.ms/vscodeJupyterKernelCrash'>here</a> for more info. View Jupyter <a href='command:jupyter.viewOutput'>log</a> for further details."
     ]
    }
   ],
   "source": [
    "# create a sine plot with noise data with 10000 points\n",
    "x = np.linspace(0, 10, 10000)\n",
    "y = np.sin(x) + np.random.normal(0, 0.1, 10000)\n",
    "data = np.array([x, y]).T\n",
    "\n",
    "# # Load data from .npy file\n",
    "# data = np.load('your_file.npy')\n",
    "\n",
    "# Create interactive scatter plot\n",
    "plot = InteractiveScatterPlot(data)\n",
    "\n",
    "# Show the plot\n",
    "plt.show()\n"
   ]
  },
  {
   "cell_type": "code",
   "execution_count": null,
   "metadata": {},
   "outputs": [],
   "source": [
    "# Save the resulting data after closing the plot\n",
    "plot.save_data('result.npy')"
   ]
  },
  {
   "cell_type": "code",
   "execution_count": null,
   "metadata": {},
   "outputs": [],
   "source": [
    "# # create a dummy sine wave data\n",
    "# x = np.linspace(0, 10, 100)\n",
    "# y = np.sin(x)\n",
    "\n",
    "# # save as .npy file\n",
    "# np.save('your_file.npy', np.array([x, y]).T)\n"
   ]
  },
  {
   "cell_type": "code",
   "execution_count": null,
   "metadata": {},
   "outputs": [],
   "source": [
    "# # load the data\n",
    "result = np.load('result.npy')\n",
    "\n",
    "# # scatter plot the data\n",
    "plt.scatter(result[:, 0], result[:, 1])\n",
    "plt.show()\n"
   ]
  },
  {
   "cell_type": "code",
   "execution_count": null,
   "metadata": {},
   "outputs": [],
   "source": []
  },
  {
   "cell_type": "code",
   "execution_count": null,
   "metadata": {},
   "outputs": [],
   "source": []
  },
  {
   "cell_type": "code",
   "execution_count": 21,
   "metadata": {},
   "outputs": [
    {
     "name": "stdout",
     "output_type": "stream",
     "text": [
      "[[ 0.00000000e+00  0.00000000e+00]\n",
      " [ 1.11111111e-01  6.42787610e-01]\n",
      " [ 2.22222222e-01  9.84807753e-01]\n",
      " [ 3.33333333e-01  8.66025404e-01]\n",
      " [ 6.66666667e-01 -8.66025404e-01]\n",
      " [ 7.77777778e-01 -9.84807753e-01]\n",
      " [ 8.88888889e-01 -6.42787610e-01]\n",
      " [ 1.00000000e+00 -2.44929360e-16]]\n",
      "(8, 2)\n",
      "\n",
      "[[[ 0.44444444  0.34202014]\n",
      "  [ 0.55555556 -0.34202014]]]\n",
      "(2, 2)\n"
     ]
    }
   ],
   "source": [
    "# import and print newData.npy\n",
    "\n",
    "import numpy as np\n",
    "import matplotlib.pyplot as plt\n",
    "\n",
    "# load the data\n",
    "data = np.load('newData.npy')\n",
    "data_removed = np.load('newData_removed.npy')\n",
    "print(data)\n",
    "print(data.shape)\n",
    "print()\n",
    "print(data_removed)\n",
    "print(data_removed[0].shape)\n",
    "# scatter plot the data\n",
    "# plt.scatter(data[:, 0], data[:, 1])\n",
    "# plt.scatter(data_removed[:, 0], data_removed[:, 1])\n",
    "# plt.show()\n"
   ]
  },
  {
   "cell_type": "code",
   "execution_count": 7,
   "metadata": {},
   "outputs": [
    {
     "name": "stdout",
     "output_type": "stream",
     "text": [
      "[1 5]\n"
     ]
    }
   ],
   "source": [
    "array1 = np.array([1, 2, 3, 4, 5])\n",
    "# delete the first and last element of array1\n",
    "array2 = np.delete(array1, [0, 4])\n",
    "\n",
    "# difference between array1 and array2\n",
    "diff = np.setdiff1d(array1, array2)\n",
    "\n",
    "# print the difference\n",
    "print(diff)\n"
   ]
  },
  {
   "cell_type": "code",
   "execution_count": 15,
   "metadata": {},
   "outputs": [
    {
     "name": "stdout",
     "output_type": "stream",
     "text": [
      "[1 6]\n",
      "[1 3 5]\n"
     ]
    }
   ],
   "source": [
    "# 2d numpy array\n",
    "array1 = np.array([[1, 2, 3, 4, 5], [6, 7, 8, 9, 10]])\n",
    "\n",
    "# delete the first column of array1\n",
    "array2 = np.delete(array1, 0, 1)\n",
    "\n",
    "# difference between array1 and array2\n",
    "diff = np.setdiff1d(array1, array2)\n",
    "\n",
    "# print the difference\n",
    "print(diff)\n",
    "\n",
    "# create a new array out of indices\n",
    "array3 = np.array([1, 2, 3, 4, 5])\n",
    "indices = set([0, 2, 4])\n",
    "array4 = array3[list(indices)]\n",
    "\n",
    "# print the new array\n",
    "print(array4)\n",
    "\n"
   ]
  },
  {
   "cell_type": "code",
   "execution_count": 25,
   "metadata": {},
   "outputs": [
    {
     "data": {
      "text/plain": [
       "array([0., 1., 2., 3., 4., 5., 6., 7., 8., 9.])"
      ]
     },
     "execution_count": 25,
     "metadata": {},
     "output_type": "execute_result"
    }
   ],
   "source": [
    "sr = 1\n",
    "duration = 10\n",
    "t1 = np.linspace(0, duration-1, int(sr * duration))\n",
    "t1"
   ]
  },
  {
   "cell_type": "code",
   "execution_count": null,
   "metadata": {},
   "outputs": [],
   "source": []
  },
  {
   "cell_type": "code",
   "execution_count": null,
   "metadata": {},
   "outputs": [],
   "source": []
  },
  {
   "cell_type": "code",
   "execution_count": null,
   "metadata": {},
   "outputs": [],
   "source": []
  },
  {
   "cell_type": "code",
   "execution_count": null,
   "metadata": {},
   "outputs": [],
   "source": []
  },
  {
   "cell_type": "code",
   "execution_count": null,
   "metadata": {},
   "outputs": [],
   "source": []
  },
  {
   "cell_type": "code",
   "execution_count": null,
   "metadata": {},
   "outputs": [],
   "source": [
    "\n"
   ]
  },
  {
   "cell_type": "code",
   "execution_count": 2,
   "metadata": {},
   "outputs": [
    {
     "name": "stdout",
     "output_type": "stream",
     "text": [
      "d:\\InteractivePlots\n",
      "d:\\\n"
     ]
    }
   ],
   "source": [
    "import os\n",
    "\n",
    "# get current working directory\n",
    "cwd = os.getcwd()\n",
    "print(cwd)\n",
    "# go one directory back\n",
    "os.chdir('..')\n",
    "# get current working directory\n",
    "cwd = os.getcwd()\n",
    "print(cwd)"
   ]
  },
  {
   "cell_type": "code",
   "execution_count": null,
   "metadata": {},
   "outputs": [],
   "source": []
  }
 ],
 "metadata": {
  "kernelspec": {
   "display_name": "pose",
   "language": "python",
   "name": "python3"
  },
  "language_info": {
   "codemirror_mode": {
    "name": "ipython",
    "version": 3
   },
   "file_extension": ".py",
   "mimetype": "text/x-python",
   "name": "python",
   "nbconvert_exporter": "python",
   "pygments_lexer": "ipython3",
   "version": "3.9.15"
  },
  "orig_nbformat": 4
 },
 "nbformat": 4,
 "nbformat_minor": 2
}
